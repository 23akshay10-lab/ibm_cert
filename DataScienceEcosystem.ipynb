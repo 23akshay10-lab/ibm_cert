{
 "cells": [
  {
   "cell_type": "markdown",
   "id": "c45b439f-7401-4206-9e64-b7ed07479206",
   "metadata": {},
   "source": [
    "# Data Science Tools and Ecosystem"
   ]
  },
  {
   "cell_type": "markdown",
   "id": "db5b333c-f44f-40e7-9140-f0709bb15b1a",
   "metadata": {},
   "source": [
    "In this notebook, Data Science Tools and Ecosystem are summarized."
   ]
  },
  {
   "cell_type": "markdown",
   "id": "75b0b2d9-c4b5-4d50-ad09-8ba3be13b2f6",
   "metadata": {},
   "source": [
    "Some of the popular languages that Data Scientists use are:\n",
    "1. Python  \n",
    "2. R  \n",
    "3. SQL"
   ]
  },
  {
   "cell_type": "markdown",
   "id": "4d7c58dc-18dd-4e44-99a7-501ceb64d3ef",
   "metadata": {},
   "source": [
    "Some of the commonly used libraries used by Data Scientists include:\n",
    "1. Pandas  \n",
    "2. NumPy  \n",
    "3. Matplotlib"
   ]
  },
  {
   "cell_type": "markdown",
   "id": "93e5890f-8b3a-41a1-ae15-e48023de0e8b",
   "metadata": {},
   "source": [
    "| Data Science Tools |\n",
    "|--------------------|\n",
    "| Jupyter Notebook   |\n",
    "| RStudio            |\n",
    "| Apache Zeppelin    |"
   ]
  },
  {
   "cell_type": "markdown",
   "id": "c402aa51-792d-4620-8240-c509fa632476",
   "metadata": {},
   "source": [
    "### Below are a few examples of evaluating arithmetic expressions in Python."
   ]
  },
  {
   "cell_type": "code",
   "execution_count": 1,
   "id": "4ad844bf-8758-4560-9e8d-df610ce95393",
   "metadata": {},
   "outputs": [
    {
     "data": {
      "text/plain": [
       "17"
      ]
     },
     "execution_count": 1,
     "metadata": {},
     "output_type": "execute_result"
    }
   ],
   "source": [
    "# This is a simple arithmetic expression to multiply then add integers\n",
    "(3 * 4) + 5"
   ]
  },
  {
   "cell_type": "code",
   "execution_count": 2,
   "id": "ff00a7a6-7a30-4c8f-bb4b-e63f600c66b7",
   "metadata": {},
   "outputs": [
    {
     "data": {
      "text/plain": [
       "3.3333333333333335"
      ]
     },
     "execution_count": 2,
     "metadata": {},
     "output_type": "execute_result"
    }
   ],
   "source": [
    "# This will convert 200 minutes to hours by dividing by 60\n",
    "200 / 60"
   ]
  },
  {
   "cell_type": "markdown",
   "id": "cee05ea8-04d9-4df8-bdbf-7174176284b2",
   "metadata": {},
   "source": [
    "**Objectives:**\n",
    "- List popular languages for Data Science\n",
    "- List commonly used libraries\n",
    "- Demonstrate arithmetic operations in Python\n",
    "- Create tables in markdown\n",
    "- Share notebooks via GitHub"
   ]
  },
  {
   "cell_type": "markdown",
   "id": "8bb37ab3-338a-4d8f-9a87-d049676c2dca",
   "metadata": {},
   "source": [
    "## Author\n",
    "Akshay Kumar"
   ]
  },
  {
   "cell_type": "code",
   "execution_count": null,
   "id": "22b14082-4fa1-4d95-befe-61f3a83fb83a",
   "metadata": {},
   "outputs": [],
   "source": []
  }
 ],
 "metadata": {
  "kernelspec": {
   "display_name": "Python 3 (ipykernel)",
   "language": "python",
   "name": "python3"
  },
  "language_info": {
   "codemirror_mode": {
    "name": "ipython",
    "version": 3
   },
   "file_extension": ".py",
   "mimetype": "text/x-python",
   "name": "python",
   "nbconvert_exporter": "python",
   "pygments_lexer": "ipython3",
   "version": "3.11.7"
  }
 },
 "nbformat": 4,
 "nbformat_minor": 5
}
